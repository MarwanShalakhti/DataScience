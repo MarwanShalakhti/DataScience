{
 "cells": [
  {
   "cell_type": "code",
   "execution_count": 34,
   "metadata": {},
   "outputs": [],
   "source": [
    "name='Marwan Shalakhti'\n",
    "id='112699'\n",
    "nameOnGithub='Marwan Shalahti'\n",
    "email='shalakhti57@gmail.com'\n",
    "favoriteQuote='\\\"Be with allah and don\\'t worry about anything else .\\\" '"
   ]
  },
  {
   "cell_type": "code",
   "execution_count": 35,
   "metadata": {},
   "outputs": [
    {
     "name": "stdout",
     "output_type": "stream",
     "text": [
      "Name: Marwan Shalakhti\n",
      "ID: 112699\n",
      "Name on Github: Marwan Shalahti\n",
      "Email: shalakhti57@gmail.com\n",
      "Favourite Quote: \"Be with allah and don't worry about anything else .\" \n"
     ]
    }
   ],
   "source": [
    "print 'Name:',name\n",
    "print 'ID:',id\n",
    "print 'Name on Github:',nameOnGithub\n",
    "print 'Email:',email\n",
    "print 'Favourite Quote:',favoriteQuote"
   ]
  }
 ],
 "metadata": {
  "kernelspec": {
   "display_name": "Python 2",
   "language": "python",
   "name": "python2"
  },
  "language_info": {
   "codemirror_mode": {
    "name": "ipython",
    "version": 2
   },
   "file_extension": ".py",
   "mimetype": "text/x-python",
   "name": "python",
   "nbconvert_exporter": "python",
   "pygments_lexer": "ipython2",
   "version": "2.7.15"
  }
 },
 "nbformat": 4,
 "nbformat_minor": 2
}
